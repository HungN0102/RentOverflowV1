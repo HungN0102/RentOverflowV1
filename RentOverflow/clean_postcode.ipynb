{
 "cells": [
  {
   "cell_type": "code",
   "execution_count": 22,
   "metadata": {},
   "outputs": [],
   "source": [
    "import pandas as pd \n",
    "import numpy as np\n",
    "import re \n",
    "import os"
   ]
  },
  {
   "cell_type": "code",
   "execution_count": 23,
   "metadata": {},
   "outputs": [],
   "source": [
    "df = pd.read_csv('ukpostcodes.csv')"
   ]
  },
  {
   "cell_type": "code",
   "execution_count": 25,
   "metadata": {},
   "outputs": [],
   "source": [
    "postcode_prefix = df['postcode'].str.split(\" \").str[0].unique().tolist()"
   ]
  },
  {
   "cell_type": "code",
   "execution_count": 26,
   "metadata": {},
   "outputs": [],
   "source": [
    "def find_central_point(df, postcode_prefix):\n",
    "    # Filter the dataframe to include only rows with the specified postcode prefix\n",
    "    filtered_df = df[df['postcode'].str.startswith(postcode_prefix)]\n",
    "\n",
    "    # Calculate the mean latitude and longitude\n",
    "    mean_latitude = filtered_df['latitude'].mean()\n",
    "    mean_longitude = filtered_df['longitude'].mean()\n",
    "\n",
    "    return mean_latitude, mean_longitude"
   ]
  },
  {
   "cell_type": "code",
   "execution_count": 27,
   "metadata": {},
   "outputs": [],
   "source": [
    "data = []\n",
    "for postcode in postcode_prefix:\n",
    "    lat, lon = find_central_point(df, postcode)\n",
    "    data.append([postcode, lat, lon])"
   ]
  },
  {
   "cell_type": "code",
   "execution_count": 31,
   "metadata": {},
   "outputs": [],
   "source": [
    "df = df[['postcode','latitude','longitude']]\n",
    "df_to_merge = pd.DataFrame(data)\n",
    "df_to_merge.columns = df.columns"
   ]
  },
  {
   "cell_type": "code",
   "execution_count": 36,
   "metadata": {},
   "outputs": [],
   "source": [
    "df_final = pd.concat([df, df_to_merge]).reset_index(drop=True)\n",
    "df_final.to_csv('ukpostcode_touse.csv')"
   ]
  },
  {
   "cell_type": "code",
   "execution_count": null,
   "metadata": {},
   "outputs": [],
   "source": []
  }
 ],
 "metadata": {
  "kernelspec": {
   "display_name": "RentScraper",
   "language": "python",
   "name": "python3"
  },
  "language_info": {
   "codemirror_mode": {
    "name": "ipython",
    "version": 3
   },
   "file_extension": ".py",
   "mimetype": "text/x-python",
   "name": "python",
   "nbconvert_exporter": "python",
   "pygments_lexer": "ipython3",
   "version": "3.9.2"
  },
  "orig_nbformat": 4
 },
 "nbformat": 4,
 "nbformat_minor": 2
}
